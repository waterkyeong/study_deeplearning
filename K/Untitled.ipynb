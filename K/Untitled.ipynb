{
 "cells": [
  {
   "cell_type": "code",
   "execution_count": 1,
   "id": "007c1f62-3995-49c7-a4bf-c0218d9d2cd9",
   "metadata": {},
   "outputs": [],
   "source": [
    "import torch"
   ]
  },
  {
   "cell_type": "code",
   "execution_count": 2,
   "id": "42762b99-bf9a-4a83-940c-5012a450bcfb",
   "metadata": {},
   "outputs": [],
   "source": [
    "and_data = torch.tensor([ [0, 0],\n",
    "                          [0, 1],\n",
    "                          [1, 0],\n",
    "                          [1, 1]], dtype = torch.float32)\n",
    "and_labels = torch.tensor([ [0],\n",
    "                            [0],\n",
    "                            [0],\n",
    "                            [1]], dtype = torch.float32)"
   ]
  },
  {
   "cell_type": "code",
   "execution_count": 4,
   "id": "84509ec7-b41a-46dc-b96f-52510c854f13",
   "metadata": {},
   "outputs": [
    {
     "name": "stdout",
     "output_type": "stream",
     "text": [
      "torch.Size([4, 1])\n"
     ]
    },
    {
     "ename": "TypeError",
     "evalue": "sigmoid() missing 1 required positional arguments: \"input\"",
     "output_type": "error",
     "traceback": [
      "\u001b[1;31m---------------------------------------------------------------------------\u001b[0m",
      "\u001b[1;31mTypeError\u001b[0m                                 Traceback (most recent call last)",
      "Cell \u001b[1;32mIn[4], line 7\u001b[0m\n\u001b[0;32m      4\u001b[0m x \u001b[38;5;241m=\u001b[39m l1(and_data)\n\u001b[0;32m      5\u001b[0m \u001b[38;5;28mprint\u001b[39m(x\u001b[38;5;241m.\u001b[39mshape)\n\u001b[1;32m----> 7\u001b[0m act_fn \u001b[38;5;241m=\u001b[39m \u001b[43mtorch\u001b[49m\u001b[38;5;241;43m.\u001b[39;49m\u001b[43msigmoid\u001b[49m\u001b[43m(\u001b[49m\u001b[43m)\u001b[49m\n\u001b[0;32m      8\u001b[0m act_fn(x)\n",
      "\u001b[1;31mTypeError\u001b[0m: sigmoid() missing 1 required positional arguments: \"input\""
     ]
    }
   ],
   "source": [
    "import torch.nn as nn\n",
    "\n",
    "l1 = nn.Linear(2,1)\n",
    "x = l1(and_data)\n",
    "print(x.shape)\n",
    "\n",
    "act_fn = nn.sigmoid()\n",
    "act_fn(x)"
   ]
  },
  {
   "cell_type": "code",
   "execution_count": null,
   "id": "fe254a34-9910-4c0b-a8ae-340263aadb54",
   "metadata": {},
   "outputs": [],
   "source": [
    "l1.weight, l1.bias, l1.parameters"
   ]
  },
  {
   "cell_type": "code",
   "execution_count": null,
   "id": "b5a10ac9-3299-4a6d-b619-216e0561057a",
   "metadata": {},
   "outputs": [],
   "source": [
    "class SimpleNN(nn.Module):\n",
    "    def __init__(self):\n",
    "        super(SimpleNN, self).__init__()\n",
    "        self.fc1 = nn.Linear(2,1)\n",
    "        #self.fc2 = nn.Linear(2,1)\n",
    "\n",
    "    def forward(self, x):\n",
    "        x = self.fc1(x)\n",
    "        x = torch.sigmoid(x)\n",
    "        #x = torch.sigmoid(self.fc2(x))\n",
    "        return x"
   ]
  },
  {
   "cell_type": "code",
   "execution_count": null,
   "id": "f1a3a4d7-5d29-427e-a2e8-ecfb4fa6fe5f",
   "metadata": {},
   "outputs": [],
   "source": []
  },
  {
   "cell_type": "code",
   "execution_count": null,
   "id": "74fce3a6-dcb7-4785-adc5-3593d5ee40c4",
   "metadata": {},
   "outputs": [],
   "source": []
  }
 ],
 "metadata": {
  "kernelspec": {
   "display_name": "Python 3 (ipykernel)",
   "language": "python",
   "name": "python3"
  },
  "language_info": {
   "codemirror_mode": {
    "name": "ipython",
    "version": 3
   },
   "file_extension": ".py",
   "mimetype": "text/x-python",
   "name": "python",
   "nbconvert_exporter": "python",
   "pygments_lexer": "ipython3",
   "version": "3.12.4"
  }
 },
 "nbformat": 4,
 "nbformat_minor": 5
}
