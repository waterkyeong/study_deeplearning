{
 "cells": [
  {
   "cell_type": "code",
   "execution_count": 3,
   "id": "3a10b130-c6a6-4308-8d3f-ab51c1f2020a",
   "metadata": {},
   "outputs": [],
   "source": [
    "import numpy as np\n",
    "import pandas as pd\n",
    "import matplotlib.pyplot as plt\n",
    "\n",
    "\n",
    "import torch\n",
    "import torch.nn as nn\n",
    "import torch.nn.functional as F\n",
    "import time\n",
    "\n",
    "import torchtext"
   ]
  },
  {
   "cell_type": "code",
   "execution_count": 4,
   "id": "1a323a5b-d48c-410a-bf8a-837346640e17",
   "metadata": {},
   "outputs": [],
   "source": [
    "TEXT = torchtext.data.Field(lower=True, fix_length=200, batch_first=True)\n",
    "LABEL = torchtext.data.Field(sequential=False)"
   ]
  },
  {
   "cell_type": "code",
   "execution_count": 5,
   "id": "3f2d554e-9d35-48a0-b111-1c629bc9bc85",
   "metadata": {},
   "outputs": [
    {
     "name": "stdout",
     "output_type": "stream",
     "text": [
      "downloading aclImdb_v1.tar.gz\n"
     ]
    },
    {
     "name": "stderr",
     "output_type": "stream",
     "text": [
      ".data\\imdb\\aclImdb_v1.tar.gz: 100%|█████████████████████████████████████████████████████████████████████████████████████| 84.1M/84.1M [00:56<00:00, 1.49MB/s]\n"
     ]
    }
   ],
   "source": [
    "from torchtext.datasets import IMDB\n",
    "train_data, test_data = IMDB.splits(TEXT, LABEL)"
   ]
  },
  {
   "cell_type": "markdown",
   "id": "108c434a-fda5-482c-9e14-ad9fb4d1813f",
   "metadata": {},
   "source": [
    "## 전처리"
   ]
  },
  {
   "cell_type": "code",
   "execution_count": 20,
   "id": "f92f4cba-9d16-478f-8b17-3cbf51e6daef",
   "metadata": {},
   "outputs": [],
   "source": [
    "import string\n",
    "\n",
    "for example in train_data.examples:\n",
    "    text = [x.lower() for x in vars(example)[\"text\"]]\n",
    "    text = [x.replace(\"<br\", \"\") for  x in text]\n",
    "    text = [\"\".join(c for c in s if c not in string.punctuation) for s in text]\n",
    "    text = [s for s in text if s]\n",
    "    vars(example)[\"text\"] = text\n",
    "\n",
    "for example in test_data.examples:\n",
    "    text = [x.lower() for x in vars(example)[\"text\"]]\n",
    "    text = [x.replace(\"<br\", \"\") for  x in text]\n",
    "    text = [\"\".join(c for c in s if c not in string.punctuation) for s in text]\n",
    "    text = [s for s in text if s]\n",
    "    vars(example)[\"text\"] = text"
   ]
  },
  {
   "cell_type": "code",
   "execution_count": 22,
   "id": "4521f3c9-4b2a-4ba5-8c16-55fff0cf428b",
   "metadata": {},
   "outputs": [],
   "source": [
    "import random\n",
    "train_data, valid_data = train_data.split(random_state=random.seed(42), split_ratio=0.8)"
   ]
  },
  {
   "cell_type": "code",
   "execution_count": 27,
   "id": "bf6d5041-d309-4943-8228-8ea843bcde27",
   "metadata": {},
   "outputs": [],
   "source": [
    "TEXT.build_vocab(train_data, max_size=10000, min_freq=10, vectors=None)\n",
    "LABEL.build_vocab(train_data)"
   ]
  },
  {
   "cell_type": "code",
   "execution_count": 30,
   "id": "7628ed82-a33f-4c86-a7a7-2c8a1d284587",
   "metadata": {},
   "outputs": [],
   "source": [
    "BATCH_SIZE = 64\n",
    "embeding_dim = 100\n",
    "hidden_size = 300\n",
    "train_iterator, valid_iterator, test_iterator = torchtext.data.BucketIterator.splits(\n",
    "    (train_data, valid_data, test_data), \n",
    "    batch_size = BATCH_SIZE\n",
    ")"
   ]
  },
  {
   "cell_type": "code",
   "execution_count": 31,
   "id": "a701cacc-79cb-4189-abcf-f1f539f05f5b",
   "metadata": {},
   "outputs": [],
   "source": [
    "class RNNCell_Encoder(nn.Module):\n",
    "    def __init__(self, input_dim, hidden_size):\n",
    "        super(RNNCell_Encoder, self).__init__()\n",
    "        self.rnn = nn.RNNCell(input_dim, hidden_size)\n",
    "\n",
    "    def forward(self, inputs):\n",
    "        bz = inputs.shape[1]\n",
    "        ht = torch.zeros((bz, hidden_size)).to(device)\n",
    "\n",
    "        for word in inputs:\n",
    "            ht = self.rnn(word, ht)\n",
    "        return ht\n",
    "\n",
    "class Net(nn.Module):\n",
    "    def __init__(self):\n",
    "        super(Net, self).__init__()\n",
    "        self.em = nn.Embedding(len(TEXT.vocab.stoi), embeding_dim)\n",
    "        self.rnn = RNNCell_Encoder(embeding_dim, hidden_size)\n",
    "        self.fc1 = nn.Linear(hidden_size, 256)\n",
    "        self.fc2 = nn.Linear(256, 3)\n",
    "\n",
    "    def forward(self, x):\n",
    "        x = self.em(x)\n",
    "        x = self.rnn(x)\n",
    "        x = F.relu(self.fc1(x))\n",
    "        x = self.fc2(x)\n",
    "        return x"
   ]
  },
  {
   "cell_type": "code",
   "execution_count": 32,
   "id": "12ddf30b-3166-41d3-a65a-51a547093d99",
   "metadata": {},
   "outputs": [],
   "source": [
    "model = Net()\n",
    "loss_fn = nn.CrossEntropyLoss()\n",
    "optimizer = torch.optim.Adam(model.parameters(), lr=0.0001)"
   ]
  }
 ],
 "metadata": {
  "kernelspec": {
   "display_name": "Python 3 (ipykernel)",
   "language": "python",
   "name": "python3"
  },
  "language_info": {
   "codemirror_mode": {
    "name": "ipython",
    "version": 3
   },
   "file_extension": ".py",
   "mimetype": "text/x-python",
   "name": "python",
   "nbconvert_exporter": "python",
   "pygments_lexer": "ipython3",
   "version": "3.12.3"
  }
 },
 "nbformat": 4,
 "nbformat_minor": 5
}
