{
 "cells": [
  {
   "cell_type": "code",
   "execution_count": 1,
   "id": "dfe311b8-ad49-49bc-9761-4f83a5ffb4ab",
   "metadata": {},
   "outputs": [],
   "source": [
    "import torch\n",
    "import torch.nn as nn"
   ]
  },
  {
   "cell_type": "code",
   "execution_count": 26,
   "id": "da350850-0634-4495-984d-0e844c85d24d",
   "metadata": {},
   "outputs": [
    {
     "data": {
      "text/plain": [
       "LSTM(15, 20, batch_first=True)"
      ]
     },
     "execution_count": 26,
     "metadata": {},
     "output_type": "execute_result"
    }
   ],
   "source": [
    "lstm = nn.LSTM(input_size=15,hidden_size=20, num_layers=1,batch_first=True)\n",
    "lstm"
   ]
  },
  {
   "cell_type": "code",
   "execution_count": 29,
   "id": "0f6ff6f7-f275-42b8-b05c-fca43e9c5709",
   "metadata": {},
   "outputs": [
    {
     "data": {
      "text/plain": [
       "torch.Size([3, 35, 15])"
      ]
     },
     "execution_count": 29,
     "metadata": {},
     "output_type": "execute_result"
    }
   ],
   "source": [
    "input = torch.zeros(3,35,15)\n",
    "input.shape"
   ]
  },
  {
   "cell_type": "code",
   "execution_count": 30,
   "id": "b49c8a64-3014-4e5f-a219-4c06dec674ad",
   "metadata": {},
   "outputs": [
    {
     "name": "stdout",
     "output_type": "stream",
     "text": [
      "torch.Size([3, 35, 20]) torch.Size([1, 3, 20]) torch.Size([1, 3, 20])\n"
     ]
    }
   ],
   "source": [
    "outputs, (hidden_state, cell_state) = lstm(input)\n",
    "print(outputs.shape, hidden_state.shape, cell_state.shape)"
   ]
  },
  {
   "cell_type": "code",
   "execution_count": 31,
   "id": "818f0a7f-097b-45d6-a05e-e2273a7a2437",
   "metadata": {},
   "outputs": [
    {
     "data": {
      "text/plain": [
       "LSTM(15, 20, num_layers=2, batch_first=True)"
      ]
     },
     "execution_count": 31,
     "metadata": {},
     "output_type": "execute_result"
    }
   ],
   "source": [
    "lstm = nn.LSTM(input_size=15,hidden_size=20, num_layers=2, batch_first=True)\n",
    "lstm"
   ]
  },
  {
   "cell_type": "code",
   "execution_count": 33,
   "id": "4e85a5eb-8de4-4d47-81d2-7cc4fd879fc8",
   "metadata": {},
   "outputs": [
    {
     "data": {
      "text/plain": [
       "torch.Size([1, 35, 15])"
      ]
     },
     "execution_count": 33,
     "metadata": {},
     "output_type": "execute_result"
    }
   ],
   "source": [
    "input = torch.zeros(1,35,15)\n",
    "input.shape"
   ]
  },
  {
   "cell_type": "code",
   "execution_count": 34,
   "id": "b55819cb-52f7-49f2-89ed-b16720d0811c",
   "metadata": {},
   "outputs": [
    {
     "name": "stdout",
     "output_type": "stream",
     "text": [
      "torch.Size([1, 35, 20]) torch.Size([2, 1, 20]) torch.Size([2, 1, 20])\n"
     ]
    }
   ],
   "source": [
    "outputs, (hidden_state, cell_state) = lstm(input)\n",
    "print(outputs.shape, hidden_state.shape, cell_state.shape)"
   ]
  }
 ],
 "metadata": {
  "kernelspec": {
   "display_name": "Python 3 (ipykernel)",
   "language": "python",
   "name": "python3"
  },
  "language_info": {
   "codemirror_mode": {
    "name": "ipython",
    "version": 3
   },
   "file_extension": ".py",
   "mimetype": "text/x-python",
   "name": "python",
   "nbconvert_exporter": "python",
   "pygments_lexer": "ipython3",
   "version": "3.12.3"
  }
 },
 "nbformat": 4,
 "nbformat_minor": 5
}
