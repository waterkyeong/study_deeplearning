{
 "cells": [
  {
   "cell_type": "code",
   "execution_count": 1,
   "metadata": {
    "colab": {
     "base_uri": "https://localhost:8080/",
     "height": 419
    },
    "id": "L2vaL_vB-iTK",
    "outputId": "84c5c5dc-4142-4efb-e639-9589b1bb441b"
   },
   "outputs": [],
   "source": [
    "import pandas as pd\n",
    "import numpy as np\n",
    "import matplotlib.pyplot as plt\n",
    "import FinanceDataReader as fdr\n",
    "\n",
    "import torch\n",
    "import torch.nn as nn"
   ]
  },
  {
   "cell_type": "code",
   "execution_count": 2,
   "metadata": {},
   "outputs": [
    {
     "data": {
      "text/html": [
       "<div>\n",
       "<style scoped>\n",
       "    .dataframe tbody tr th:only-of-type {\n",
       "        vertical-align: middle;\n",
       "    }\n",
       "\n",
       "    .dataframe tbody tr th {\n",
       "        vertical-align: top;\n",
       "    }\n",
       "\n",
       "    .dataframe thead th {\n",
       "        text-align: right;\n",
       "    }\n",
       "</style>\n",
       "<table border=\"1\" class=\"dataframe\">\n",
       "  <thead>\n",
       "    <tr style=\"text-align: right;\">\n",
       "      <th></th>\n",
       "      <th>Open</th>\n",
       "      <th>High</th>\n",
       "      <th>Low</th>\n",
       "      <th>Close</th>\n",
       "      <th>Volume</th>\n",
       "      <th>Change</th>\n",
       "    </tr>\n",
       "    <tr>\n",
       "      <th>Date</th>\n",
       "      <th></th>\n",
       "      <th></th>\n",
       "      <th></th>\n",
       "      <th></th>\n",
       "      <th></th>\n",
       "      <th></th>\n",
       "    </tr>\n",
       "  </thead>\n",
       "  <tbody>\n",
       "    <tr>\n",
       "      <th>2000-04-21</th>\n",
       "      <td>445593</td>\n",
       "      <td>447556</td>\n",
       "      <td>422037</td>\n",
       "      <td>422037</td>\n",
       "      <td>4409900</td>\n",
       "      <td>NaN</td>\n",
       "    </tr>\n",
       "    <tr>\n",
       "      <th>2000-04-24</th>\n",
       "      <td>412222</td>\n",
       "      <td>427926</td>\n",
       "      <td>404370</td>\n",
       "      <td>424000</td>\n",
       "      <td>5294570</td>\n",
       "      <td>0.004651</td>\n",
       "    </tr>\n",
       "    <tr>\n",
       "      <th>2000-04-25</th>\n",
       "      <td>412222</td>\n",
       "      <td>418111</td>\n",
       "      <td>406333</td>\n",
       "      <td>411240</td>\n",
       "      <td>3623120</td>\n",
       "      <td>-0.030094</td>\n",
       "    </tr>\n",
       "    <tr>\n",
       "      <th>2000-04-26</th>\n",
       "      <td>422037</td>\n",
       "      <td>426944</td>\n",
       "      <td>350389</td>\n",
       "      <td>350388</td>\n",
       "      <td>30856280</td>\n",
       "      <td>-0.147972</td>\n",
       "    </tr>\n",
       "    <tr>\n",
       "      <th>2000-04-27</th>\n",
       "      <td>323889</td>\n",
       "      <td>333704</td>\n",
       "      <td>298370</td>\n",
       "      <td>317018</td>\n",
       "      <td>41861610</td>\n",
       "      <td>-0.095237</td>\n",
       "    </tr>\n",
       "  </tbody>\n",
       "</table>\n",
       "</div>"
      ],
      "text/plain": [
       "              Open    High     Low   Close    Volume    Change\n",
       "Date                                                          \n",
       "2000-04-21  445593  447556  422037  422037   4409900       NaN\n",
       "2000-04-24  412222  427926  404370  424000   5294570  0.004651\n",
       "2000-04-25  412222  418111  406333  411240   3623120 -0.030094\n",
       "2000-04-26  422037  426944  350389  350388  30856280 -0.147972\n",
       "2000-04-27  323889  333704  298370  317018  41861610 -0.095237"
      ]
     },
     "execution_count": 2,
     "metadata": {},
     "output_type": "execute_result"
    }
   ],
   "source": [
    "data = fdr.DataReader('000660')\n",
    "data.head()"
   ]
  },
  {
   "cell_type": "code",
   "execution_count": 3,
   "metadata": {
    "colab": {
     "base_uri": "https://localhost:8080/",
     "height": 419
    },
    "id": "-uAP7HiYJBIK",
    "outputId": "3d50ebc4-5861-4112-bf3e-fb7005a3a87f"
   },
   "outputs": [
    {
     "data": {
      "text/html": [
       "<div>\n",
       "<style scoped>\n",
       "    .dataframe tbody tr th:only-of-type {\n",
       "        vertical-align: middle;\n",
       "    }\n",
       "\n",
       "    .dataframe tbody tr th {\n",
       "        vertical-align: top;\n",
       "    }\n",
       "\n",
       "    .dataframe thead th {\n",
       "        text-align: right;\n",
       "    }\n",
       "</style>\n",
       "<table border=\"1\" class=\"dataframe\">\n",
       "  <thead>\n",
       "    <tr style=\"text-align: right;\">\n",
       "      <th></th>\n",
       "      <th>Close</th>\n",
       "    </tr>\n",
       "    <tr>\n",
       "      <th>Date</th>\n",
       "      <th></th>\n",
       "    </tr>\n",
       "  </thead>\n",
       "  <tbody>\n",
       "    <tr>\n",
       "      <th>2000-04-21</th>\n",
       "      <td>422037</td>\n",
       "    </tr>\n",
       "    <tr>\n",
       "      <th>2000-04-24</th>\n",
       "      <td>424000</td>\n",
       "    </tr>\n",
       "    <tr>\n",
       "      <th>2000-04-25</th>\n",
       "      <td>411240</td>\n",
       "    </tr>\n",
       "    <tr>\n",
       "      <th>2000-04-26</th>\n",
       "      <td>350388</td>\n",
       "    </tr>\n",
       "    <tr>\n",
       "      <th>2000-04-27</th>\n",
       "      <td>317018</td>\n",
       "    </tr>\n",
       "    <tr>\n",
       "      <th>...</th>\n",
       "      <td>...</td>\n",
       "    </tr>\n",
       "    <tr>\n",
       "      <th>2024-08-05</th>\n",
       "      <td>156100</td>\n",
       "    </tr>\n",
       "    <tr>\n",
       "      <th>2024-08-06</th>\n",
       "      <td>163700</td>\n",
       "    </tr>\n",
       "    <tr>\n",
       "      <th>2024-08-07</th>\n",
       "      <td>169300</td>\n",
       "    </tr>\n",
       "    <tr>\n",
       "      <th>2024-08-08</th>\n",
       "      <td>163400</td>\n",
       "    </tr>\n",
       "    <tr>\n",
       "      <th>2024-08-09</th>\n",
       "      <td>170400</td>\n",
       "    </tr>\n",
       "  </tbody>\n",
       "</table>\n",
       "<p>6000 rows × 1 columns</p>\n",
       "</div>"
      ],
      "text/plain": [
       "             Close\n",
       "Date              \n",
       "2000-04-21  422037\n",
       "2000-04-24  424000\n",
       "2000-04-25  411240\n",
       "2000-04-26  350388\n",
       "2000-04-27  317018\n",
       "...            ...\n",
       "2024-08-05  156100\n",
       "2024-08-06  163700\n",
       "2024-08-07  169300\n",
       "2024-08-08  163400\n",
       "2024-08-09  170400\n",
       "\n",
       "[6000 rows x 1 columns]"
      ]
     },
     "execution_count": 3,
     "metadata": {},
     "output_type": "execute_result"
    }
   ],
   "source": [
    "data = data[['Close']]\n",
    "data"
   ]
  },
  {
   "cell_type": "code",
   "execution_count": 4,
   "metadata": {
    "colab": {
     "base_uri": "https://localhost:8080/",
     "height": 35
    },
    "id": "84D4s9fpJLKR",
    "outputId": "b45740af-0ffb-4d1a-cf85-964c48ae27bf"
   },
   "outputs": [
    {
     "data": {
      "text/plain": [
       "'cuda:0'"
      ]
     },
     "execution_count": 4,
     "metadata": {},
     "output_type": "execute_result"
    }
   ],
   "source": [
    "device = 'cuda:0' if torch.cuda.is_available() else 'cpu'\n",
    "device"
   ]
  },
  {
   "cell_type": "code",
   "execution_count": 5,
   "metadata": {
    "colab": {
     "base_uri": "https://localhost:8080/",
     "height": 549
    },
    "id": "nFz9rtjbJf8v",
    "outputId": "0a4b9821-d746-4575-9713-4fe8a9b03482"
   },
   "outputs": [],
   "source": [
    "# plt.plot(data)"
   ]
  },
  {
   "cell_type": "code",
   "execution_count": 6,
   "metadata": {
    "colab": {
     "base_uri": "https://localhost:8080/",
     "height": 450
    },
    "id": "z1QmXABuKABX",
    "outputId": "03bcf676-9eeb-4498-fd5d-60ebff769537"
   },
   "outputs": [
    {
     "data": {
      "text/html": [
       "<div>\n",
       "<style scoped>\n",
       "    .dataframe tbody tr th:only-of-type {\n",
       "        vertical-align: middle;\n",
       "    }\n",
       "\n",
       "    .dataframe tbody tr th {\n",
       "        vertical-align: top;\n",
       "    }\n",
       "\n",
       "    .dataframe thead th {\n",
       "        text-align: right;\n",
       "    }\n",
       "</style>\n",
       "<table border=\"1\" class=\"dataframe\">\n",
       "  <thead>\n",
       "    <tr style=\"text-align: right;\">\n",
       "      <th></th>\n",
       "      <th>Close</th>\n",
       "      <th>Close(t-1)</th>\n",
       "      <th>Close(t-2)</th>\n",
       "      <th>Close(t-3)</th>\n",
       "      <th>Close(t-4)</th>\n",
       "      <th>Close(t-5)</th>\n",
       "      <th>Close(t-6)</th>\n",
       "      <th>Close(t-7)</th>\n",
       "    </tr>\n",
       "    <tr>\n",
       "      <th>Date</th>\n",
       "      <th></th>\n",
       "      <th></th>\n",
       "      <th></th>\n",
       "      <th></th>\n",
       "      <th></th>\n",
       "      <th></th>\n",
       "      <th></th>\n",
       "      <th></th>\n",
       "    </tr>\n",
       "  </thead>\n",
       "  <tbody>\n",
       "    <tr>\n",
       "      <th>2000-05-03</th>\n",
       "      <td>341555</td>\n",
       "      <td>341555.0</td>\n",
       "      <td>345481.0</td>\n",
       "      <td>317018.0</td>\n",
       "      <td>350388.0</td>\n",
       "      <td>411240.0</td>\n",
       "      <td>424000.0</td>\n",
       "      <td>422037.0</td>\n",
       "    </tr>\n",
       "    <tr>\n",
       "      <th>2000-05-04</th>\n",
       "      <td>343518</td>\n",
       "      <td>341555.0</td>\n",
       "      <td>341555.0</td>\n",
       "      <td>345481.0</td>\n",
       "      <td>317018.0</td>\n",
       "      <td>350388.0</td>\n",
       "      <td>411240.0</td>\n",
       "      <td>424000.0</td>\n",
       "    </tr>\n",
       "    <tr>\n",
       "      <th>2000-05-08</th>\n",
       "      <td>350388</td>\n",
       "      <td>343518.0</td>\n",
       "      <td>341555.0</td>\n",
       "      <td>341555.0</td>\n",
       "      <td>345481.0</td>\n",
       "      <td>317018.0</td>\n",
       "      <td>350388.0</td>\n",
       "      <td>411240.0</td>\n",
       "    </tr>\n",
       "    <tr>\n",
       "      <th>2000-05-09</th>\n",
       "      <td>342537</td>\n",
       "      <td>350388.0</td>\n",
       "      <td>343518.0</td>\n",
       "      <td>341555.0</td>\n",
       "      <td>341555.0</td>\n",
       "      <td>345481.0</td>\n",
       "      <td>317018.0</td>\n",
       "      <td>350388.0</td>\n",
       "    </tr>\n",
       "    <tr>\n",
       "      <th>2000-05-10</th>\n",
       "      <td>335666</td>\n",
       "      <td>342537.0</td>\n",
       "      <td>350388.0</td>\n",
       "      <td>343518.0</td>\n",
       "      <td>341555.0</td>\n",
       "      <td>341555.0</td>\n",
       "      <td>345481.0</td>\n",
       "      <td>317018.0</td>\n",
       "    </tr>\n",
       "    <tr>\n",
       "      <th>...</th>\n",
       "      <td>...</td>\n",
       "      <td>...</td>\n",
       "      <td>...</td>\n",
       "      <td>...</td>\n",
       "      <td>...</td>\n",
       "      <td>...</td>\n",
       "      <td>...</td>\n",
       "      <td>...</td>\n",
       "    </tr>\n",
       "    <tr>\n",
       "      <th>2024-08-05</th>\n",
       "      <td>156100</td>\n",
       "      <td>173200.0</td>\n",
       "      <td>193300.0</td>\n",
       "      <td>194600.0</td>\n",
       "      <td>188900.0</td>\n",
       "      <td>195600.0</td>\n",
       "      <td>191800.0</td>\n",
       "      <td>190000.0</td>\n",
       "    </tr>\n",
       "    <tr>\n",
       "      <th>2024-08-06</th>\n",
       "      <td>163700</td>\n",
       "      <td>156100.0</td>\n",
       "      <td>173200.0</td>\n",
       "      <td>193300.0</td>\n",
       "      <td>194600.0</td>\n",
       "      <td>188900.0</td>\n",
       "      <td>195600.0</td>\n",
       "      <td>191800.0</td>\n",
       "    </tr>\n",
       "    <tr>\n",
       "      <th>2024-08-07</th>\n",
       "      <td>169300</td>\n",
       "      <td>163700.0</td>\n",
       "      <td>156100.0</td>\n",
       "      <td>173200.0</td>\n",
       "      <td>193300.0</td>\n",
       "      <td>194600.0</td>\n",
       "      <td>188900.0</td>\n",
       "      <td>195600.0</td>\n",
       "    </tr>\n",
       "    <tr>\n",
       "      <th>2024-08-08</th>\n",
       "      <td>163400</td>\n",
       "      <td>169300.0</td>\n",
       "      <td>163700.0</td>\n",
       "      <td>156100.0</td>\n",
       "      <td>173200.0</td>\n",
       "      <td>193300.0</td>\n",
       "      <td>194600.0</td>\n",
       "      <td>188900.0</td>\n",
       "    </tr>\n",
       "    <tr>\n",
       "      <th>2024-08-09</th>\n",
       "      <td>170400</td>\n",
       "      <td>163400.0</td>\n",
       "      <td>169300.0</td>\n",
       "      <td>163700.0</td>\n",
       "      <td>156100.0</td>\n",
       "      <td>173200.0</td>\n",
       "      <td>193300.0</td>\n",
       "      <td>194600.0</td>\n",
       "    </tr>\n",
       "  </tbody>\n",
       "</table>\n",
       "<p>5993 rows × 8 columns</p>\n",
       "</div>"
      ],
      "text/plain": [
       "             Close  Close(t-1)  Close(t-2)  Close(t-3)  Close(t-4)  \\\n",
       "Date                                                                 \n",
       "2000-05-03  341555    341555.0    345481.0    317018.0    350388.0   \n",
       "2000-05-04  343518    341555.0    341555.0    345481.0    317018.0   \n",
       "2000-05-08  350388    343518.0    341555.0    341555.0    345481.0   \n",
       "2000-05-09  342537    350388.0    343518.0    341555.0    341555.0   \n",
       "2000-05-10  335666    342537.0    350388.0    343518.0    341555.0   \n",
       "...            ...         ...         ...         ...         ...   \n",
       "2024-08-05  156100    173200.0    193300.0    194600.0    188900.0   \n",
       "2024-08-06  163700    156100.0    173200.0    193300.0    194600.0   \n",
       "2024-08-07  169300    163700.0    156100.0    173200.0    193300.0   \n",
       "2024-08-08  163400    169300.0    163700.0    156100.0    173200.0   \n",
       "2024-08-09  170400    163400.0    169300.0    163700.0    156100.0   \n",
       "\n",
       "            Close(t-5)  Close(t-6)  Close(t-7)  \n",
       "Date                                            \n",
       "2000-05-03    411240.0    424000.0    422037.0  \n",
       "2000-05-04    350388.0    411240.0    424000.0  \n",
       "2000-05-08    317018.0    350388.0    411240.0  \n",
       "2000-05-09    345481.0    317018.0    350388.0  \n",
       "2000-05-10    341555.0    345481.0    317018.0  \n",
       "...                ...         ...         ...  \n",
       "2024-08-05    195600.0    191800.0    190000.0  \n",
       "2024-08-06    188900.0    195600.0    191800.0  \n",
       "2024-08-07    194600.0    188900.0    195600.0  \n",
       "2024-08-08    193300.0    194600.0    188900.0  \n",
       "2024-08-09    173200.0    193300.0    194600.0  \n",
       "\n",
       "[5993 rows x 8 columns]"
      ]
     },
     "execution_count": 6,
     "metadata": {},
     "output_type": "execute_result"
    }
   ],
   "source": [
    "from copy import deepcopy as dc\n",
    "\n",
    "def prepare_dataframe_for_lstm(df, n_steps):\n",
    "    df = dc(df)\n",
    "    for i in range(1, n_steps+1):\n",
    "        df[f'Close(t-{i})'] = df['Close'].shift(i)\n",
    "    df.dropna(inplace=True)\n",
    "    return df\n",
    "\n",
    "lookback = 7\n",
    "shifted_df = prepare_dataframe_for_lstm(data, lookback)\n",
    "shifted_df"
   ]
  },
  {
   "cell_type": "code",
   "execution_count": 7,
   "metadata": {
    "colab": {
     "base_uri": "https://localhost:8080/"
    },
    "id": "_IG75QwPKMzw",
    "outputId": "f4f71041-41f5-4f9d-f83e-8f6dc9fe641c"
   },
   "outputs": [
    {
     "data": {
      "text/plain": [
       "array([[341555., 341555., 345481., ..., 411240., 424000., 422037.],\n",
       "       [343518., 341555., 341555., ..., 350388., 411240., 424000.],\n",
       "       [350388., 343518., 341555., ..., 317018., 350388., 411240.],\n",
       "       ...,\n",
       "       [169300., 163700., 156100., ..., 194600., 188900., 195600.],\n",
       "       [163400., 169300., 163700., ..., 193300., 194600., 188900.],\n",
       "       [170400., 163400., 169300., ..., 173200., 193300., 194600.]])"
      ]
     },
     "execution_count": 7,
     "metadata": {},
     "output_type": "execute_result"
    }
   ],
   "source": [
    "shifted_df_as_np = shifted_df.to_numpy()\n",
    "shifted_df_as_np"
   ]
  },
  {
   "cell_type": "code",
   "execution_count": 8,
   "metadata": {
    "colab": {
     "base_uri": "https://localhost:8080/"
    },
    "id": "i3cWRordKcrG",
    "outputId": "7fb6a8a6-8dbf-40fb-ba2f-6a0748cb931c"
   },
   "outputs": [
    {
     "data": {
      "text/plain": [
       "(5993, 8)"
      ]
     },
     "execution_count": 8,
     "metadata": {},
     "output_type": "execute_result"
    }
   ],
   "source": [
    "shifted_df_as_np.shape"
   ]
  },
  {
   "cell_type": "code",
   "execution_count": 9,
   "metadata": {
    "colab": {
     "base_uri": "https://localhost:8080/"
    },
    "id": "e_43uhHQK1FM",
    "outputId": "f43d3fa8-7e74-4ffe-9963-5922a1b747e4"
   },
   "outputs": [
    {
     "data": {
      "text/plain": [
       "array([[ 0.41719722,  0.41719722,  0.43361455, ...,  0.70859861,\n",
       "         0.76195703,  0.75374837],\n",
       "       [ 0.42540589,  0.41719722,  0.41719722, ...,  0.45413413,\n",
       "         0.70859861,  0.76195703],\n",
       "       [ 0.45413413,  0.42540589,  0.41719722, ...,  0.31459098,\n",
       "         0.45413413,  0.70859861],\n",
       "       ...,\n",
       "       [-0.30312059, -0.32653808, -0.35831896, ..., -0.19732372,\n",
       "        -0.22115937, -0.19314202],\n",
       "       [-0.32779259, -0.30312059, -0.32653808, ..., -0.20275992,\n",
       "        -0.19732372, -0.22115937],\n",
       "       [-0.29852073, -0.32779259, -0.30312059, ..., -0.28681198,\n",
       "        -0.20275992, -0.19732372]])"
      ]
     },
     "execution_count": 9,
     "metadata": {},
     "output_type": "execute_result"
    }
   ],
   "source": [
    "from sklearn.preprocessing import MinMaxScaler\n",
    "scaler = MinMaxScaler(feature_range=(-1, 1))\n",
    "shifted_df_as_np = scaler.fit_transform(shifted_df_as_np)\n",
    "shifted_df_as_np"
   ]
  },
  {
   "cell_type": "code",
   "execution_count": 10,
   "metadata": {
    "colab": {
     "base_uri": "https://localhost:8080/"
    },
    "id": "owVNlK7fLXcZ",
    "outputId": "face630b-d9f8-4a1c-d881-c4ef38eac4f2"
   },
   "outputs": [
    {
     "data": {
      "text/plain": [
       "((5993, 7), (5993,))"
      ]
     },
     "execution_count": 10,
     "metadata": {},
     "output_type": "execute_result"
    }
   ],
   "source": [
    "X = shifted_df_as_np[:, 1:]\n",
    "y = shifted_df_as_np[:, 0]\n",
    "X.shape, y.shape"
   ]
  },
  {
   "cell_type": "code",
   "execution_count": 11,
   "metadata": {
    "colab": {
     "base_uri": "https://localhost:8080/"
    },
    "id": "EHRfGAqKLvxv",
    "outputId": "a5fecbb1-04e1-4c24-dc86-3c6199d45bb0"
   },
   "outputs": [
    {
     "data": {
      "text/plain": [
       "array([[ 0.75374837,  0.76195703,  0.70859861, ...,  0.31459098,\n",
       "         0.43361455,  0.41719722],\n",
       "       [ 0.76195703,  0.70859861,  0.45413413, ...,  0.43361455,\n",
       "         0.41719722,  0.41719722],\n",
       "       [ 0.70859861,  0.45413413,  0.31459098, ...,  0.41719722,\n",
       "         0.41719722,  0.42540589],\n",
       "       ...,\n",
       "       [-0.19314202, -0.22115937, -0.19732372, ..., -0.28681198,\n",
       "        -0.35831896, -0.32653808],\n",
       "       [-0.22115937, -0.19732372, -0.20275992, ..., -0.35831896,\n",
       "        -0.32653808, -0.30312059],\n",
       "       [-0.19732372, -0.20275992, -0.28681198, ..., -0.32653808,\n",
       "        -0.30312059, -0.32779259]])"
      ]
     },
     "execution_count": 11,
     "metadata": {},
     "output_type": "execute_result"
    }
   ],
   "source": [
    "X = dc(np.flip(X, axis=1))\n",
    "X"
   ]
  },
  {
   "cell_type": "code",
   "execution_count": 12,
   "metadata": {
    "colab": {
     "base_uri": "https://localhost:8080/"
    },
    "id": "23sI-HtWL5f0",
    "outputId": "e6fd2c5d-10ff-454d-8b75-dfdefc5965e7"
   },
   "outputs": [
    {
     "data": {
      "text/plain": [
       "5693"
      ]
     },
     "execution_count": 12,
     "metadata": {},
     "output_type": "execute_result"
    }
   ],
   "source": [
    "split_index = int(len(X) * 0.95)\n",
    "split_index"
   ]
  },
  {
   "cell_type": "markdown",
   "metadata": {
    "id": "_5GPEYLRNJOW"
   },
   "source": [
    "## Train the model"
   ]
  },
  {
   "cell_type": "code",
   "execution_count": 13,
   "metadata": {
    "colab": {
     "base_uri": "https://localhost:8080/"
    },
    "id": "VNiVl9ajNGyW",
    "outputId": "45162d59-55e9-4fda-8a62-a392ee8becb5"
   },
   "outputs": [
    {
     "data": {
      "text/plain": [
       "((5693, 7), (300, 7), (5693,), (300,))"
      ]
     },
     "execution_count": 13,
     "metadata": {},
     "output_type": "execute_result"
    }
   ],
   "source": [
    "X_train = X[:split_index]\n",
    "X_test = X[split_index:]\n",
    "\n",
    "y_train = y[:split_index]\n",
    "y_test = y[split_index:]\n",
    "\n",
    "X_train.shape, X_test.shape, y_train.shape, y_test.shape"
   ]
  },
  {
   "cell_type": "code",
   "execution_count": 14,
   "metadata": {
    "colab": {
     "base_uri": "https://localhost:8080/"
    },
    "id": "UGbO7EukNsvT",
    "outputId": "f2079720-cf05-4ef9-a711-150b25d0fa18"
   },
   "outputs": [
    {
     "data": {
      "text/plain": [
       "((5693, 7, 1), (300, 7, 1), (5693, 1), (300, 1))"
      ]
     },
     "execution_count": 14,
     "metadata": {},
     "output_type": "execute_result"
    }
   ],
   "source": [
    "X_train = X_train.reshape((-1, lookback, 1))\n",
    "X_test = X_test.reshape((-1, lookback, 1))\n",
    "\n",
    "y_train = y_train.reshape((-1, 1))\n",
    "y_test = y_test.reshape((-1, 1))\n",
    "\n",
    "X_train.shape, X_test.shape, y_train.shape, y_test.shape"
   ]
  },
  {
   "cell_type": "code",
   "execution_count": 15,
   "metadata": {
    "colab": {
     "base_uri": "https://localhost:8080/"
    },
    "id": "PWQB4K1vOWN7",
    "outputId": "b7415542-804e-4327-c766-aa26030cfce1"
   },
   "outputs": [
    {
     "data": {
      "text/plain": [
       "(torch.Size([5693, 7, 1]),\n",
       " torch.Size([300, 7, 1]),\n",
       " torch.Size([5693, 1]),\n",
       " torch.Size([300, 1]))"
      ]
     },
     "execution_count": 15,
     "metadata": {},
     "output_type": "execute_result"
    }
   ],
   "source": [
    "X_train = torch.tensor(X_train).float()\n",
    "y_train = torch.tensor(y_train).float()\n",
    "X_test = torch.tensor(X_test).float()\n",
    "y_test = torch.tensor(y_test).float()\n",
    "\n",
    "X_train.shape, X_test.shape, y_train.shape, y_test.shape"
   ]
  },
  {
   "cell_type": "code",
   "execution_count": 16,
   "metadata": {
    "id": "mMpqLDseO8Qs"
   },
   "outputs": [],
   "source": [
    "from torch.utils.data import Dataset\n",
    "\n",
    "class TimeSeriesDataset(Dataset):\n",
    "    def __init__(self, X, y):\n",
    "        self.X = X\n",
    "        self.y = y\n",
    "\n",
    "    def __len__(self):\n",
    "        return len(self.X)\n",
    "\n",
    "    def __getitem__(self, i):\n",
    "        return self.X[i], self.y[i]\n",
    "\n",
    "train_dataset = TimeSeriesDataset(X_train, y_train)\n",
    "test_dataset = TimeSeriesDataset(X_test, y_test)"
   ]
  },
  {
   "cell_type": "code",
   "execution_count": 17,
   "metadata": {
    "id": "-6oeYf-IQMK8"
   },
   "outputs": [],
   "source": [
    "from torch.utils.data import DataLoader\n",
    "\n",
    "batch_size = 16\n",
    "\n",
    "train_loader = DataLoader(train_dataset, batch_size=batch_size, shuffle=True)\n",
    "test_loader = DataLoader(test_dataset, batch_size=batch_size, shuffle=False)"
   ]
  },
  {
   "cell_type": "code",
   "execution_count": 18,
   "metadata": {
    "colab": {
     "base_uri": "https://localhost:8080/"
    },
    "id": "FCOdzYmKROFf",
    "outputId": "2617ef6e-f1a0-43d8-81ba-95ddee6b25f3"
   },
   "outputs": [
    {
     "name": "stdout",
     "output_type": "stream",
     "text": [
      "torch.Size([16, 7, 1]) torch.Size([16, 1])\n"
     ]
    }
   ],
   "source": [
    "for _, batch in enumerate(train_loader):\n",
    "    x_batch, y_batch = batch[0].to(device), batch[1].to(device)\n",
    "    print(x_batch.shape, y_batch.shape)\n",
    "    break"
   ]
  },
  {
   "cell_type": "code",
   "execution_count": 19,
   "metadata": {
    "colab": {
     "base_uri": "https://localhost:8080/"
    },
    "id": "FdXqtX_0RQW6",
    "outputId": "23ac72b8-3df5-4049-f2b3-c02e309ac981"
   },
   "outputs": [
    {
     "data": {
      "text/plain": [
       "LSTM(\n",
       "  (lstm): LSTM(1, 4, batch_first=True)\n",
       "  (fc): Linear(in_features=4, out_features=1, bias=True)\n",
       ")"
      ]
     },
     "execution_count": 19,
     "metadata": {},
     "output_type": "execute_result"
    }
   ],
   "source": [
    "class LSTM(nn.Module):\n",
    "    def __init__(self, input_size, hidden_size, num_stacked_layers):\n",
    "        super().__init__()\n",
    "        self.hidden_size = hidden_size\n",
    "        self.num_stacked_layers = num_stacked_layers\n",
    "        self.lstm = nn.LSTM(input_size, hidden_size, num_stacked_layers,batch_first=True)\n",
    "        self.fc = nn.Linear(hidden_size, 1)\n",
    "\n",
    "    def forward(self, x):\n",
    "        batch_size = x.size(0)\n",
    "        h0 = torch.zeros(self.num_stacked_layers, batch_size, self.hidden_size).to(device)\n",
    "        c0 = torch.zeros(self.num_stacked_layers, batch_size, self.hidden_size).to(device)\n",
    "        out, _ = self.lstm(x, (h0, c0))\n",
    "        out = self.fc(out[:, -1, :])\n",
    "        return out\n",
    "\n",
    "model = LSTM(1, 4, 1)\n",
    "model.to(device)\n",
    "model"
   ]
  },
  {
   "cell_type": "code",
   "execution_count": 20,
   "metadata": {
    "id": "lYKay5tURTBg"
   },
   "outputs": [],
   "source": [
    "def train_one_epoch():\n",
    "    model.train(True)\n",
    "    print(f'Epoch: {epoch + 1}')\n",
    "    running_loss = 0.0\n",
    "    for batch_index, batch in enumerate(train_loader):\n",
    "        x_batch, y_batch = batch[0].to(device), batch[1].to(device)\n",
    "\n",
    "        output = model(x_batch)\n",
    "        loss = loss_function(output, y_batch)\n",
    "        running_loss += loss.item()\n",
    "\n",
    "        optimizer.zero_grad()\n",
    "        loss.backward()\n",
    "        optimizer.step()\n",
    "\n",
    "        if batch_index % 100 == 99:  # print every 100 batches\n",
    "            avg_loss_across_batches = running_loss / 100\n",
    "            print('Batch {0}, Loss: {1:.3f}'.format(batch_index+1,\n",
    "                                                    avg_loss_across_batches))\n",
    "            running_loss = 0.0\n",
    "    print()"
   ]
  },
  {
   "cell_type": "code",
   "execution_count": 21,
   "metadata": {
    "id": "KMvHAayfRYso"
   },
   "outputs": [],
   "source": [
    "def validate_one_epoch():\n",
    "    model.train(False)\n",
    "    running_loss = 0.0\n",
    "\n",
    "    for batch_index, batch in enumerate(test_loader):\n",
    "        x_batch, y_batch = batch[0].to(device), batch[1].to(device)\n",
    "\n",
    "        with torch.no_grad():\n",
    "            output = model(x_batch)\n",
    "            loss = loss_function(output, y_batch)\n",
    "            running_loss += loss.item()\n",
    "\n",
    "    avg_loss_across_batches = running_loss / len(test_loader)\n",
    "\n",
    "    print('Val Loss: {0:.3f}'.format(avg_loss_across_batches))\n",
    "    print('***************************************************')\n",
    "    print()"
   ]
  },
  {
   "cell_type": "code",
   "execution_count": 22,
   "metadata": {
    "colab": {
     "base_uri": "https://localhost:8080/"
    },
    "id": "DkyPeQa-Rdi-",
    "outputId": "c3c84ad0-b13e-4ad5-e01c-28e7994d03ca"
   },
   "outputs": [
    {
     "name": "stdout",
     "output_type": "stream",
     "text": [
      "Epoch: 1\n",
      "Batch 100, Loss: 0.163\n",
      "Batch 200, Loss: 0.038\n",
      "Batch 300, Loss: 0.023\n",
      "\n",
      "Val Loss: 0.043\n",
      "***************************************************\n",
      "\n",
      "Epoch: 2\n",
      "Batch 100, Loss: 0.015\n",
      "Batch 200, Loss: 0.006\n",
      "Batch 300, Loss: 0.003\n",
      "\n",
      "Val Loss: 0.004\n",
      "***************************************************\n",
      "\n",
      "Epoch: 3\n",
      "Batch 100, Loss: 0.002\n",
      "Batch 200, Loss: 0.001\n",
      "Batch 300, Loss: 0.001\n",
      "\n",
      "Val Loss: 0.005\n",
      "***************************************************\n",
      "\n",
      "Epoch: 4\n",
      "Batch 100, Loss: 0.001\n",
      "Batch 200, Loss: 0.001\n",
      "Batch 300, Loss: 0.001\n",
      "\n",
      "Val Loss: 0.003\n",
      "***************************************************\n",
      "\n",
      "Epoch: 5\n",
      "Batch 100, Loss: 0.001\n",
      "Batch 200, Loss: 0.001\n",
      "Batch 300, Loss: 0.001\n",
      "\n",
      "Val Loss: 0.002\n",
      "***************************************************\n",
      "\n",
      "Epoch: 6\n",
      "Batch 100, Loss: 0.001\n",
      "Batch 200, Loss: 0.001\n",
      "Batch 300, Loss: 0.001\n",
      "\n",
      "Val Loss: 0.001\n",
      "***************************************************\n",
      "\n",
      "Epoch: 7\n",
      "Batch 100, Loss: 0.001\n",
      "Batch 200, Loss: 0.001\n",
      "Batch 300, Loss: 0.000\n",
      "\n",
      "Val Loss: 0.001\n",
      "***************************************************\n",
      "\n",
      "Epoch: 8\n",
      "Batch 100, Loss: 0.000\n",
      "Batch 200, Loss: 0.001\n",
      "Batch 300, Loss: 0.000\n",
      "\n",
      "Val Loss: 0.001\n",
      "***************************************************\n",
      "\n",
      "Epoch: 9\n",
      "Batch 100, Loss: 0.000\n",
      "Batch 200, Loss: 0.000\n",
      "Batch 300, Loss: 0.000\n",
      "\n",
      "Val Loss: 0.001\n",
      "***************************************************\n",
      "\n",
      "Epoch: 10\n",
      "Batch 100, Loss: 0.001\n",
      "Batch 200, Loss: 0.000\n",
      "Batch 300, Loss: 0.000\n",
      "\n",
      "Val Loss: 0.001\n",
      "***************************************************\n",
      "\n"
     ]
    }
   ],
   "source": [
    "learning_rate = 0.001\n",
    "num_epochs = 10\n",
    "loss_function = nn.MSELoss()\n",
    "optimizer = torch.optim.Adam(model.parameters(), lr=learning_rate)\n",
    "\n",
    "for epoch in range(num_epochs):\n",
    "    train_one_epoch()\n",
    "    validate_one_epoch()"
   ]
  },
  {
   "cell_type": "code",
   "execution_count": 23,
   "metadata": {
    "colab": {
     "base_uri": "https://localhost:8080/",
     "height": 449
    },
    "id": "_76GmjXARhre",
    "outputId": "814e02f7-6037-439f-e097-c8271fb9769e"
   },
   "outputs": [
    {
     "data": {
      "image/png": "[encoded data removed]",
      "text/plain": [
       "<Figure size 640x480 with 1 Axes>"
      ]
     },
     "metadata": {},
     "output_type": "display_data"
    }
   ],
   "source": [
    "with torch.no_grad():\n",
    "    predicted = model(X_train.to(device)).to('cpu').numpy()\n",
    "\n",
    "plt.plot(y_train, label='Actual Close')\n",
    "plt.plot(predicted, label='Predicted Close')\n",
    "plt.xlabel('Day')\n",
    "plt.ylabel('Close')\n",
    "plt.legend()\n",
    "plt.show()"
   ]
  }
 ],
 "metadata": {
  "accelerator": "GPU",
  "colab": {
   "authorship_tag": "ABX9TyMc1ycdS6c/nPbZli5DrDPh",
   "gpuType": "T4",
   "include_colab_link": true,
   "mount_file_id": "1AXcth-ONblzuf7xerYogkhJZ2autoimV",
   "provenance": []
  },
  "kernelspec": {
   "display_name": "Python 3 (ipykernel)",
   "language": "python",
   "name": "python3"
  },
  "language_info": {
   "codemirror_mode": {
    "name": "ipython",
    "version": 3
   },
   "file_extension": ".py",
   "mimetype": "text/x-python",
   "name": "python",
   "nbconvert_exporter": "python",
   "pygments_lexer": "ipython3",
   "version": "3.12.3"
  }
 },
 "nbformat": 4,
 "nbformat_minor": 4
}
