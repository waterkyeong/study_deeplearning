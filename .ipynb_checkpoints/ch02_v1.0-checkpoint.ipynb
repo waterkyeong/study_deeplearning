{
 "cells": [
  {
   "cell_type": "code",
   "execution_count": 1,
   "id": "9aea30d8-3126-4d90-adbb-c1c7a82623d3",
   "metadata": {},
   "outputs": [],
   "source": [
    "import pandas as pd\n",
    "import numpy as np\n",
    "import matplotlib.pyplot as plt\n",
    "import seaborn as sns\n",
    "\n",
    "import torch\n",
    "import torch.nn as nn\n",
    "\n",
    "from sklearn.model_selection import train_test_split\n",
    "from torch.utils.data import Dataset, DataLoader"
   ]
  },
  {
   "cell_type": "code",
   "execution_count": 2,
   "id": "603410c6-5dc7-461a-bf34-e5e2cc13543c",
   "metadata": {},
   "outputs": [],
   "source": [
    "def preprocessing():\n",
    "    dataset = pd.read_csv(\"data/car_evaluation.csv\")\n",
    "    categorical_columns = [\"price\", \"maint\", \"doors\", \"persons\", \"lug_capacity\", \"safety\"]\n",
    "    for category in categorical_columns:\n",
    "        dataset[category] = dataset[category].astype(\"category\")        \n",
    "    price = dataset[\"price\"].cat.codes.values\n",
    "    maint = dataset[\"maint\"].cat.codes.values\n",
    "    doors = dataset[\"doors\"].cat.codes.values\n",
    "    persons = dataset[\"persons\"].cat.codes.values\n",
    "    lug_capacity = dataset[\"lug_capacity\"].cat.codes.values\n",
    "    safety = dataset[\"safety\"].cat.codes.values\n",
    "    \n",
    "    categorical_data = np.stack([price, maint, doors, persons, lug_capacity, safety],1)    \n",
    "    categorical_data = torch.tensor(categorical_data, dtype=torch.int64)        \n",
    "    categorical_colum_sizes = [len(dataset[column].cat.categories) for column in categorical_columns]\n",
    "    categorical_embedding_sizes = [(col_size, min(50, (col_size)+1) // 2) for col_size in categorical_colum_sizes]    \n",
    "    outputs = dataset[\"output\"].astype(\"category\").cat.codes.values\n",
    "    outputs = torch.tensor(outputs, dtype=torch.int64).flatten()\n",
    "\n",
    "    return categorical_data, outputs, categorical_embedding_sizes\n",
    "\n",
    "categorical_data, outputs, categorical_embedding_sizes = preprocessing()"
   ]
  },
  {
   "cell_type": "code",
   "execution_count": 3,
   "id": "e30a9b54-6968-41bd-9377-4f63ef29e93b",
   "metadata": {},
   "outputs": [],
   "source": [
    "X_train, X_test, y_train, y_test = train_test_split(categorical_data, \n",
    "                                                    outputs, \n",
    "                                                    test_size=0.2, \n",
    "                                                    random_state=42)"
   ]
  },
  {
   "cell_type": "code",
   "execution_count": 4,
   "id": "c0198ca4-ac54-4f49-a964-8ed0a586b8c4",
   "metadata": {},
   "outputs": [],
   "source": [
    "class CarEvaluationDataset(Dataset):\n",
    "    def __init__(self, categorical_data, outputs):\n",
    "        self.categorical_data = categorical_data\n",
    "        self.outputs = outputs\n",
    "\n",
    "    def __len__(self):\n",
    "        return len(self.categorical_data)\n",
    "\n",
    "    def __getitem__(self, idx):\n",
    "        X = self.categorical_data[idx]\n",
    "        y = self.outputs[idx]\n",
    "        return X,y"
   ]
  },
  {
   "cell_type": "code",
   "execution_count": 5,
   "id": "480205e2-07cf-48ce-8f46-a5432501a8dc",
   "metadata": {},
   "outputs": [],
   "source": [
    "train_dataset = CarEvaluationDataset(X_train, y_train)\n",
    "test_dataset = CarEvaluationDataset(X_test, y_test)\n",
    "train_loader = DataLoader(train_dataset, batch_size=64, shuffle=True)\n",
    "test_loader = DataLoader(test_dataset, batch_size=64, shuffle=False)"
   ]
  },
  {
   "cell_type": "code",
   "execution_count": 6,
   "id": "a9b7e1b8-226c-4208-b8ff-29d2e0be3bd0",
   "metadata": {},
   "outputs": [],
   "source": [
    "class Model(nn.Module):\n",
    "    def __init__(self, embedding_size, output_size, layers, p=0.4):\n",
    "        super().__init__()\n",
    "        self.all_embeddings = nn.ModuleList([nn.Embedding(ni, nf) for ni, nf in embedding_size])\n",
    "        self.embedding_dropout = nn.Dropout(p)\n",
    "        all_layers = []\n",
    "        num_categorical_cols = sum((nf for ni, nf in embedding_size))\n",
    "        input_size = num_categorical_cols\n",
    "        for i in layers:\n",
    "            all_layers.append(nn.Linear(input_size, i))\n",
    "            all_layers.append(nn.ReLU(inplace=True))\n",
    "            all_layers.append(nn.BatchNorm1d(i))\n",
    "            all_layers.append(nn.Dropout(p))\n",
    "            input_size = i\n",
    "        all_layers.append(nn.Linear(layers[-1], output_size))\n",
    "        self.layers = nn.Sequential(*all_layers)\n",
    "\n",
    "    def forward(self, x_categorical):\n",
    "        embeddings = []\n",
    "        for i, e in enumerate(self.all_embeddings):\n",
    "            embeddings.append(e(x_categorical[:,i]))\n",
    "        # FIXED: 들여쓰기 수정\n",
    "        x = torch.cat(embeddings, 1)\n",
    "        x = self.embedding_dropout(x)\n",
    "        x = self.layers(x)\n",
    "        return x          "
   ]
  },
  {
   "cell_type": "code",
   "execution_count": 7,
   "id": "4c2aeb73-6820-4d74-9848-bfdd6c17708a",
   "metadata": {},
   "outputs": [
    {
     "data": {
      "text/plain": [
       "Model(\n",
       "  (all_embeddings): ModuleList(\n",
       "    (0-2): 3 x Embedding(4, 2)\n",
       "    (3-5): 3 x Embedding(3, 2)\n",
       "  )\n",
       "  (embedding_dropout): Dropout(p=0.4, inplace=False)\n",
       "  (layers): Sequential(\n",
       "    (0): Linear(in_features=12, out_features=200, bias=True)\n",
       "    (1): ReLU(inplace=True)\n",
       "    (2): BatchNorm1d(200, eps=1e-05, momentum=0.1, affine=True, track_running_stats=True)\n",
       "    (3): Dropout(p=0.4, inplace=False)\n",
       "    (4): Linear(in_features=200, out_features=100, bias=True)\n",
       "    (5): ReLU(inplace=True)\n",
       "    (6): BatchNorm1d(100, eps=1e-05, momentum=0.1, affine=True, track_running_stats=True)\n",
       "    (7): Dropout(p=0.4, inplace=False)\n",
       "    (8): Linear(in_features=100, out_features=50, bias=True)\n",
       "    (9): ReLU(inplace=True)\n",
       "    (10): BatchNorm1d(50, eps=1e-05, momentum=0.1, affine=True, track_running_stats=True)\n",
       "    (11): Dropout(p=0.4, inplace=False)\n",
       "    (12): Linear(in_features=50, out_features=4, bias=True)\n",
       "  )\n",
       ")"
      ]
     },
     "execution_count": 7,
     "metadata": {},
     "output_type": "execute_result"
    }
   ],
   "source": [
    "model = Model(categorical_embedding_sizes, 4, [200, 100, 50], p=0.4)\n",
    "model"
   ]
  },
  {
   "cell_type": "code",
   "execution_count": 8,
   "id": "c4f95a0d-9206-401c-9156-4b1019860d99",
   "metadata": {},
   "outputs": [],
   "source": [
    "loss_function = nn.CrossEntropyLoss()\n",
    "optimizer = torch.optim.Adam(model.parameters(), lr=0.001)"
   ]
  },
  {
   "cell_type": "code",
   "execution_count": 9,
   "id": "238b5211-778e-4efd-bd86-996e95c5bd9a",
   "metadata": {},
   "outputs": [
    {
     "name": "stdout",
     "output_type": "stream",
     "text": [
      "0.6029025316238403\n",
      "0.6616813540458679\n",
      "0.3978942930698395\n",
      "0.31348028779029846\n",
      "0.45229610800743103\n",
      "0.49399420619010925\n",
      "0.38666048645973206\n",
      "0.4834154546260834\n",
      "0.41888338327407837\n",
      "0.2615146338939667\n",
      "0.4701959788799286\n",
      "0.4606149196624756\n",
      "0.7028393745422363\n",
      "0.7092346549034119\n",
      "0.3042389154434204\n",
      "0.34013184905052185\n",
      "0.2830556631088257\n",
      "0.3765699565410614\n",
      "0.4030180275440216\n",
      "0.44009193778038025\n"
     ]
    }
   ],
   "source": [
    "epochs = 500\n",
    "aggregated_losses = []\n",
    "for epoch in range(epochs):\n",
    "    model.train()\n",
    "    for x_batch, y_batch in train_loader:\n",
    "        y_pred = model(x_batch)\n",
    "        single_loss = loss_function(y_pred, y_batch)\n",
    "        aggregated_losses.append(single_loss.item())\n",
    "\n",
    "        optimizer.zero_grad()\n",
    "        single_loss.backward()\n",
    "        optimizer.step()\n",
    "\n",
    "    if (epoch+1) % 25 == 0:\n",
    "        print(single_loss.item())"
   ]
  }
 ],
 "metadata": {
  "kernelspec": {
   "display_name": "Python 3 (ipykernel)",
   "language": "python",
   "name": "python3"
  },
  "language_info": {
   "codemirror_mode": {
    "name": "ipython",
    "version": 3
   },
   "file_extension": ".py",
   "mimetype": "text/x-python",
   "name": "python",
   "nbconvert_exporter": "python",
   "pygments_lexer": "ipython3",
   "version": "3.12.3"
  }
 },
 "nbformat": 4,
 "nbformat_minor": 5
}
