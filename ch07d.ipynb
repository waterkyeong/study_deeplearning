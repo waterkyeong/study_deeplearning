{
 "cells": [
  {
   "cell_type": "code",
   "execution_count": 1,
   "id": "0354b56f-9bd1-4e21-a833-49a4d717e2f2",
   "metadata": {},
   "outputs": [],
   "source": [
    "# !pip install finance-datareader\n",
    "# !pip install plotly"
   ]
  },
  {
   "cell_type": "code",
   "execution_count": 2,
   "id": "1d5a54f8-440a-4a9a-98db-55e491ceaabf",
   "metadata": {},
   "outputs": [],
   "source": [
    "import numpy as np\n",
    "import pandas as pd\n",
    "import matplotlib.pyplot as plt\n",
    "import FinanceDataReader as fdr\n",
    "\n",
    "import torch\n",
    "import torch.nn as nn"
   ]
  },
  {
   "cell_type": "code",
   "execution_count": 3,
   "id": "2d80d3b0-b234-4b32-b30b-6fce0abeb96d",
   "metadata": {},
   "outputs": [
    {
     "data": {
      "text/html": [
       "<div>\n",
       "<style scoped>\n",
       "    .dataframe tbody tr th:only-of-type {\n",
       "        vertical-align: middle;\n",
       "    }\n",
       "\n",
       "    .dataframe tbody tr th {\n",
       "        vertical-align: top;\n",
       "    }\n",
       "\n",
       "    .dataframe thead th {\n",
       "        text-align: right;\n",
       "    }\n",
       "</style>\n",
       "<table border=\"1\" class=\"dataframe\">\n",
       "  <thead>\n",
       "    <tr style=\"text-align: right;\">\n",
       "      <th></th>\n",
       "      <th>Close</th>\n",
       "    </tr>\n",
       "    <tr>\n",
       "      <th>Date</th>\n",
       "      <th></th>\n",
       "    </tr>\n",
       "  </thead>\n",
       "  <tbody>\n",
       "    <tr>\n",
       "      <th>2000-04-21</th>\n",
       "      <td>6050</td>\n",
       "    </tr>\n",
       "    <tr>\n",
       "      <th>2000-04-24</th>\n",
       "      <td>5800</td>\n",
       "    </tr>\n",
       "    <tr>\n",
       "      <th>2000-04-25</th>\n",
       "      <td>5640</td>\n",
       "    </tr>\n",
       "    <tr>\n",
       "      <th>2000-04-26</th>\n",
       "      <td>5600</td>\n",
       "    </tr>\n",
       "    <tr>\n",
       "      <th>2000-04-27</th>\n",
       "      <td>5400</td>\n",
       "    </tr>\n",
       "    <tr>\n",
       "      <th>...</th>\n",
       "      <td>...</td>\n",
       "    </tr>\n",
       "    <tr>\n",
       "      <th>2024-08-05</th>\n",
       "      <td>71400</td>\n",
       "    </tr>\n",
       "    <tr>\n",
       "      <th>2024-08-06</th>\n",
       "      <td>72500</td>\n",
       "    </tr>\n",
       "    <tr>\n",
       "      <th>2024-08-07</th>\n",
       "      <td>74700</td>\n",
       "    </tr>\n",
       "    <tr>\n",
       "      <th>2024-08-08</th>\n",
       "      <td>73400</td>\n",
       "    </tr>\n",
       "    <tr>\n",
       "      <th>2024-08-09</th>\n",
       "      <td>74800</td>\n",
       "    </tr>\n",
       "  </tbody>\n",
       "</table>\n",
       "<p>6000 rows × 1 columns</p>\n",
       "</div>"
      ],
      "text/plain": [
       "            Close\n",
       "Date             \n",
       "2000-04-21   6050\n",
       "2000-04-24   5800\n",
       "2000-04-25   5640\n",
       "2000-04-26   5600\n",
       "2000-04-27   5400\n",
       "...           ...\n",
       "2024-08-05  71400\n",
       "2024-08-06  72500\n",
       "2024-08-07  74700\n",
       "2024-08-08  73400\n",
       "2024-08-09  74800\n",
       "\n",
       "[6000 rows x 1 columns]"
      ]
     },
     "execution_count": 3,
     "metadata": {},
     "output_type": "execute_result"
    }
   ],
   "source": [
    "data = fdr.DataReader(\"005930\")\n",
    "data = data[[\"Close\"]]\n",
    "data"
   ]
  },
  {
   "cell_type": "code",
   "execution_count": 4,
   "id": "b3a0605c-b9ab-429f-9dba-828a9b1600eb",
   "metadata": {},
   "outputs": [
    {
     "data": {
      "text/plain": [
       "[<matplotlib.lines.Line2D at 0x1bb7a13f5f0>]"
      ]
     },
     "execution_count": 4,
     "metadata": {},
     "output_type": "execute_result"
    },
    {
     "data": {
      "image/png": "[encoded data removed]",
      "text/plain": [
       "<Figure size 640x480 with 1 Axes>"
      ]
     },
     "metadata": {},
     "output_type": "display_data"
    }
   ],
   "source": [
    "plt.plot(data)"
   ]
  },
  {
   "cell_type": "markdown",
   "id": "4a6703be-e6a9-4a64-9af7-796abfb122b3",
   "metadata": {},
   "source": [
    "## 딥러닝 전용으로 코드 작성\n",
    "- Close의 추세를 반영해서 Close값 예측"
   ]
  },
  {
   "cell_type": "code",
   "execution_count": 5,
   "id": "87fb3fe2-04fe-4a97-b495-5c6aadc55353",
   "metadata": {},
   "outputs": [
    {
     "data": {
      "text/html": [
       "<div>\n",
       "<style scoped>\n",
       "    .dataframe tbody tr th:only-of-type {\n",
       "        vertical-align: middle;\n",
       "    }\n",
       "\n",
       "    .dataframe tbody tr th {\n",
       "        vertical-align: top;\n",
       "    }\n",
       "\n",
       "    .dataframe thead th {\n",
       "        text-align: right;\n",
       "    }\n",
       "</style>\n",
       "<table border=\"1\" class=\"dataframe\">\n",
       "  <thead>\n",
       "    <tr style=\"text-align: right;\">\n",
       "      <th></th>\n",
       "      <th>Close</th>\n",
       "      <th>Close(t-1)</th>\n",
       "      <th>Close(t-2)</th>\n",
       "      <th>Close(t-3)</th>\n",
       "      <th>Close(t-4)</th>\n",
       "      <th>Close(t-5)</th>\n",
       "      <th>Close(t-6)</th>\n",
       "      <th>Close(t-7)</th>\n",
       "    </tr>\n",
       "    <tr>\n",
       "      <th>Date</th>\n",
       "      <th></th>\n",
       "      <th></th>\n",
       "      <th></th>\n",
       "      <th></th>\n",
       "      <th></th>\n",
       "      <th></th>\n",
       "      <th></th>\n",
       "      <th></th>\n",
       "    </tr>\n",
       "  </thead>\n",
       "  <tbody>\n",
       "    <tr>\n",
       "      <th>2000-05-03</th>\n",
       "      <td>6180</td>\n",
       "      <td>6280.0</td>\n",
       "      <td>6000.0</td>\n",
       "      <td>5400.0</td>\n",
       "      <td>5600.0</td>\n",
       "      <td>5640.0</td>\n",
       "      <td>5800.0</td>\n",
       "      <td>6050.0</td>\n",
       "    </tr>\n",
       "    <tr>\n",
       "      <th>2000-05-04</th>\n",
       "      <td>6180</td>\n",
       "      <td>6180.0</td>\n",
       "      <td>6280.0</td>\n",
       "      <td>6000.0</td>\n",
       "      <td>5400.0</td>\n",
       "      <td>5600.0</td>\n",
       "      <td>5640.0</td>\n",
       "      <td>5800.0</td>\n",
       "    </tr>\n",
       "    <tr>\n",
       "      <th>2000-05-08</th>\n",
       "      <td>6560</td>\n",
       "      <td>6180.0</td>\n",
       "      <td>6180.0</td>\n",
       "      <td>6280.0</td>\n",
       "      <td>6000.0</td>\n",
       "      <td>5400.0</td>\n",
       "      <td>5600.0</td>\n",
       "      <td>5640.0</td>\n",
       "    </tr>\n",
       "    <tr>\n",
       "      <th>2000-05-09</th>\n",
       "      <td>6370</td>\n",
       "      <td>6560.0</td>\n",
       "      <td>6180.0</td>\n",
       "      <td>6180.0</td>\n",
       "      <td>6280.0</td>\n",
       "      <td>6000.0</td>\n",
       "      <td>5400.0</td>\n",
       "      <td>5600.0</td>\n",
       "    </tr>\n",
       "    <tr>\n",
       "      <th>2000-05-10</th>\n",
       "      <td>6350</td>\n",
       "      <td>6370.0</td>\n",
       "      <td>6560.0</td>\n",
       "      <td>6180.0</td>\n",
       "      <td>6180.0</td>\n",
       "      <td>6280.0</td>\n",
       "      <td>6000.0</td>\n",
       "      <td>5400.0</td>\n",
       "    </tr>\n",
       "    <tr>\n",
       "      <th>...</th>\n",
       "      <td>...</td>\n",
       "      <td>...</td>\n",
       "      <td>...</td>\n",
       "      <td>...</td>\n",
       "      <td>...</td>\n",
       "      <td>...</td>\n",
       "      <td>...</td>\n",
       "      <td>...</td>\n",
       "    </tr>\n",
       "    <tr>\n",
       "      <th>2024-08-05</th>\n",
       "      <td>71400</td>\n",
       "      <td>79600.0</td>\n",
       "      <td>83100.0</td>\n",
       "      <td>83900.0</td>\n",
       "      <td>81000.0</td>\n",
       "      <td>81200.0</td>\n",
       "      <td>80900.0</td>\n",
       "      <td>80400.0</td>\n",
       "    </tr>\n",
       "    <tr>\n",
       "      <th>2024-08-06</th>\n",
       "      <td>72500</td>\n",
       "      <td>71400.0</td>\n",
       "      <td>79600.0</td>\n",
       "      <td>83100.0</td>\n",
       "      <td>83900.0</td>\n",
       "      <td>81000.0</td>\n",
       "      <td>81200.0</td>\n",
       "      <td>80900.0</td>\n",
       "    </tr>\n",
       "    <tr>\n",
       "      <th>2024-08-07</th>\n",
       "      <td>74700</td>\n",
       "      <td>72500.0</td>\n",
       "      <td>71400.0</td>\n",
       "      <td>79600.0</td>\n",
       "      <td>83100.0</td>\n",
       "      <td>83900.0</td>\n",
       "      <td>81000.0</td>\n",
       "      <td>81200.0</td>\n",
       "    </tr>\n",
       "    <tr>\n",
       "      <th>2024-08-08</th>\n",
       "      <td>73400</td>\n",
       "      <td>74700.0</td>\n",
       "      <td>72500.0</td>\n",
       "      <td>71400.0</td>\n",
       "      <td>79600.0</td>\n",
       "      <td>83100.0</td>\n",
       "      <td>83900.0</td>\n",
       "      <td>81000.0</td>\n",
       "    </tr>\n",
       "    <tr>\n",
       "      <th>2024-08-09</th>\n",
       "      <td>74800</td>\n",
       "      <td>73400.0</td>\n",
       "      <td>74700.0</td>\n",
       "      <td>72500.0</td>\n",
       "      <td>71400.0</td>\n",
       "      <td>79600.0</td>\n",
       "      <td>83100.0</td>\n",
       "      <td>83900.0</td>\n",
       "    </tr>\n",
       "  </tbody>\n",
       "</table>\n",
       "<p>5993 rows × 8 columns</p>\n",
       "</div>"
      ],
      "text/plain": [
       "            Close  Close(t-1)  Close(t-2)  Close(t-3)  Close(t-4)  Close(t-5)  \\\n",
       "Date                                                                            \n",
       "2000-05-03   6180      6280.0      6000.0      5400.0      5600.0      5640.0   \n",
       "2000-05-04   6180      6180.0      6280.0      6000.0      5400.0      5600.0   \n",
       "2000-05-08   6560      6180.0      6180.0      6280.0      6000.0      5400.0   \n",
       "2000-05-09   6370      6560.0      6180.0      6180.0      6280.0      6000.0   \n",
       "2000-05-10   6350      6370.0      6560.0      6180.0      6180.0      6280.0   \n",
       "...           ...         ...         ...         ...         ...         ...   \n",
       "2024-08-05  71400     79600.0     83100.0     83900.0     81000.0     81200.0   \n",
       "2024-08-06  72500     71400.0     79600.0     83100.0     83900.0     81000.0   \n",
       "2024-08-07  74700     72500.0     71400.0     79600.0     83100.0     83900.0   \n",
       "2024-08-08  73400     74700.0     72500.0     71400.0     79600.0     83100.0   \n",
       "2024-08-09  74800     73400.0     74700.0     72500.0     71400.0     79600.0   \n",
       "\n",
       "            Close(t-6)  Close(t-7)  \n",
       "Date                                \n",
       "2000-05-03      5800.0      6050.0  \n",
       "2000-05-04      5640.0      5800.0  \n",
       "2000-05-08      5600.0      5640.0  \n",
       "2000-05-09      5400.0      5600.0  \n",
       "2000-05-10      6000.0      5400.0  \n",
       "...                ...         ...  \n",
       "2024-08-05     80900.0     80400.0  \n",
       "2024-08-06     81200.0     80900.0  \n",
       "2024-08-07     81000.0     81200.0  \n",
       "2024-08-08     83900.0     81000.0  \n",
       "2024-08-09     83100.0     83900.0  \n",
       "\n",
       "[5993 rows x 8 columns]"
      ]
     },
     "execution_count": 5,
     "metadata": {},
     "output_type": "execute_result"
    }
   ],
   "source": [
    "from copy import deepcopy as dc\n",
    "\n",
    "def prepare_dataframe_for_lstm(df, n_steps):\n",
    "    df = dc(df)\n",
    "    for i in range(1, n_steps+1):\n",
    "        df[f\"Close(t-{i})\"] = df[\"Close\"].shift(i)\n",
    "    df.dropna(inplace=True)\n",
    "    return df\n",
    "\n",
    "lookback = 7\n",
    "shifted_df = prepare_dataframe_for_lstm(data, lookback)\n",
    "shifted_df"
   ]
  },
  {
   "cell_type": "code",
   "execution_count": 6,
   "id": "650723cd-58cc-4526-8d3a-f5e8d575ee46",
   "metadata": {},
   "outputs": [
    {
     "data": {
      "text/plain": [
       "(5993, 8)"
      ]
     },
     "execution_count": 6,
     "metadata": {},
     "output_type": "execute_result"
    }
   ],
   "source": [
    "shifted_df_as_np = shifted_df.to_numpy()\n",
    "shifted_df_as_np.shape"
   ]
  },
  {
   "cell_type": "code",
   "execution_count": 7,
   "id": "bc3980ce-176c-4b55-81a8-ed60fcaad285",
   "metadata": {},
   "outputs": [],
   "source": [
    "from sklearn.preprocessing import MinMaxScaler\n",
    "scaler = MinMaxScaler(feature_range=(-1,1))\n",
    "shifted_df_as_np = scaler.fit_transform(shifted_df_as_np)"
   ]
  },
  {
   "cell_type": "code",
   "execution_count": 8,
   "id": "228ad4eb-1eb8-488d-9370-57f3d2726f10",
   "metadata": {},
   "outputs": [
    {
     "name": "stdout",
     "output_type": "stream",
     "text": [
      "(5993, 7) (5993,)\n"
     ]
    }
   ],
   "source": [
    "X = shifted_df_as_np[:,1:] \n",
    "y = shifted_df_as_np[:,0]\n",
    "print(X.shape, y.shape)"
   ]
  },
  {
   "cell_type": "code",
   "execution_count": 9,
   "id": "43c258df-4ea6-4303-ae4c-eef51fbe9a86",
   "metadata": {},
   "outputs": [
    {
     "data": {
      "text/plain": [
       "array([-0.91956497, -0.92590914, -0.9395038 , -0.93497224, -0.93406593,\n",
       "       -0.93044069, -0.92477625])"
      ]
     },
     "execution_count": 9,
     "metadata": {},
     "output_type": "execute_result"
    }
   ],
   "source": [
    "X[0]"
   ]
  },
  {
   "cell_type": "code",
   "execution_count": 10,
   "id": "dab0266c-2d9b-4e0e-959d-7264d7532c58",
   "metadata": {},
   "outputs": [],
   "source": [
    "X = dc(np.flip(X,axis=1))"
   ]
  },
  {
   "cell_type": "code",
   "execution_count": 11,
   "id": "c80e1bfb-02dc-404d-bafc-abeb9ea8f5b1",
   "metadata": {},
   "outputs": [
    {
     "data": {
      "text/plain": [
       "5693"
      ]
     },
     "execution_count": 11,
     "metadata": {},
     "output_type": "execute_result"
    }
   ],
   "source": [
    "split_index = int(len(X)*0.95)\n",
    "split_index"
   ]
  },
  {
   "cell_type": "markdown",
   "id": "d3434376-b075-4ef5-b5e1-0dbe62452fda",
   "metadata": {},
   "source": [
    "## Train and Test"
   ]
  },
  {
   "cell_type": "code",
   "execution_count": 12,
   "id": "7ac4356f-11d7-4883-916d-d20eb75a58cb",
   "metadata": {},
   "outputs": [],
   "source": [
    "X_train = X[:split_index]\n",
    "X_test = X[split_index:]\n",
    "y_train = y[:split_index]\n",
    "y_test = y[split_index:]\n",
    "\n",
    "X_train = X_train.reshape((-1,lookback,1))\n",
    "X_test = X_test.reshape((-1,lookback,1))\n",
    "\n",
    "y_train = y_train.reshape((-1,1))\n",
    "y_test = y_test.reshape((-1,1))"
   ]
  },
  {
   "cell_type": "code",
   "execution_count": 13,
   "id": "913b2cbb-18d8-4691-be35-551255b7f3f4",
   "metadata": {},
   "outputs": [
    {
     "name": "stdout",
     "output_type": "stream",
     "text": [
      "(5693, 7, 1) (300, 7, 1) (5693, 1) (300, 1)\n"
     ]
    }
   ],
   "source": [
    "print(X_train.shape, X_test.shape,y_train.shape, y_test.shape)"
   ]
  },
  {
   "cell_type": "code",
   "execution_count": 14,
   "id": "61b8f49c-c8d9-48c3-8ec3-1b243a55e39d",
   "metadata": {},
   "outputs": [],
   "source": [
    "X_train = torch.tensor(X_train).float()\n",
    "X_test = torch.tensor(X_test).float()\n",
    "y_train = torch.tensor(y_train).float()\n",
    "y_test = torch.tensor(y_test).float()"
   ]
  },
  {
   "cell_type": "code",
   "execution_count": 15,
   "id": "495ada7f-530e-45dd-9f23-e083d965141c",
   "metadata": {},
   "outputs": [
    {
     "name": "stdout",
     "output_type": "stream",
     "text": [
      "torch.Size([5693, 7, 1]) torch.Size([300, 7, 1]) torch.Size([5693, 1]) torch.Size([300, 1])\n"
     ]
    }
   ],
   "source": [
    "print(X_train.shape, X_test.shape,y_train.shape, y_test.shape)"
   ]
  },
  {
   "cell_type": "code",
   "execution_count": 18,
   "id": "9d5d4c78-7fbd-4bb9-9b7f-3f1abcf092d7",
   "metadata": {},
   "outputs": [],
   "source": [
    "from torch.utils.data import Dataset\n",
    "\n",
    "class TimeSeriesDataset(Dataset):\n",
    "    def __init__(self, X, y):\n",
    "        self.X = X\n",
    "        self.y = y\n",
    "\n",
    "    def __len__(self):\n",
    "        return len(self.X)\n",
    "\n",
    "    def __getitem__(self, i):\n",
    "        return self.X[i], self.y[i]\n",
    "\n",
    "train_dataset = TimeSeriesDataset(X_train, y_train)\n",
    "test_dataset = TimeSeriesDataset(X_test, y_test)"
   ]
  },
  {
   "cell_type": "code",
   "execution_count": null,
   "id": "9a2c05cb-b5b4-4ea7-8da1-cb478a9aa8a1",
   "metadata": {},
   "outputs": [],
   "source": []
  }
 ],
 "metadata": {
  "kernelspec": {
   "display_name": "Python 3 (ipykernel)",
   "language": "python",
   "name": "python3"
  },
  "language_info": {
   "codemirror_mode": {
    "name": "ipython",
    "version": 3
   },
   "file_extension": ".py",
   "mimetype": "text/x-python",
   "name": "python",
   "nbconvert_exporter": "python",
   "pygments_lexer": "ipython3",
   "version": "3.12.3"
  }
 },
 "nbformat": 4,
 "nbformat_minor": 5
}
